{
 "cells": [
  {
   "cell_type": "markdown",
   "metadata": {},
   "source": [
    "# Neural Network Classifier for Toy Problem 1\n",
    "\n",
    "Each output of a neural network classifier is the neural network's *preference for a category*.\n",
    "\n",
    "The favoured category is the one represented by the output with the highest value.\n",
    "\n",
    "For example, if the outputs are $\\begin{bmatrix}11 & 12 & 13\\end{bmatrix}$ and they represent three classes $(0, 1, 2)$, the class chosen by the neural network is class $2$.\n",
    "\n",
    "For any input, the output depends on the weights of the classifier.\n",
    "\n",
    "Can you come up with a set of weights (modify the weights below) so that when the first element of the input vector is less than the second element, the classifier chooses category 1, otherwise category 0?\n",
    "\n",
    "In other words, for all inputs $f = \\begin{bmatrix}f_{1} & f_{2}\\end{bmatrix}$ and output categories $0$ and $1$, if $f_{1} < f_{2}$ then the output category selected is $1$ else it is $0$."
   ]
  },
  {
   "cell_type": "code",
   "execution_count": 1,
   "metadata": {},
   "outputs": [
    {
     "name": "stdout",
     "output_type": "stream",
     "text": [
      "\n",
      " 1  3\n",
      "[torch.FloatTensor of size 1x2]\n",
      "\n",
      "\n",
      " 0  0\n",
      " 0  0\n",
      "[torch.FloatTensor of size 2x2]\n",
      "\n",
      "\n",
      " 0  0\n",
      "[torch.FloatTensor of size 1x2]\n",
      "\n",
      "0\n"
     ]
    }
   ],
   "source": [
    "import torch\n",
    "\n",
    "data = torch.Tensor([[1, 3]])\n",
    "print(data)\n",
    "\n",
    "# I've initialized the weights matrix with 0.\n",
    "# This clearly doesn't work since even if f1 < f2, the classifier picks category 0.\n",
    "# Replace the weights with your own to solve the problem.\n",
    "\n",
    "weights = torch.Tensor([[0, 0],[0, 0]])\n",
    "print(weights)\n",
    "\n",
    "result = torch.mm(data, weights)\n",
    "print(result)\n",
    "\n",
    "maxv, maxi = torch.max(result, 1)\n",
    "print(maxi[0])"
   ]
  },
  {
   "cell_type": "markdown",
   "metadata": {},
   "source": [
    "## Exercise\n",
    "\n",
    "Come up with weights so that if $f_{1} < f_{2}$ then the output category selected is $1$ else $0$.\n"
   ]
  },
  {
   "cell_type": "code",
   "execution_count": null,
   "metadata": {
    "collapsed": true
   },
   "outputs": [],
   "source": []
  }
 ],
 "metadata": {
  "kernelspec": {
   "display_name": "Python 3",
   "language": "python",
   "name": "python3"
  },
  "language_info": {
   "codemirror_mode": {
    "name": "ipython",
    "version": 3
   },
   "file_extension": ".py",
   "mimetype": "text/x-python",
   "name": "python",
   "nbconvert_exporter": "python",
   "pygments_lexer": "ipython3",
   "version": "3.5.2"
  }
 },
 "nbformat": 4,
 "nbformat_minor": 2
}
