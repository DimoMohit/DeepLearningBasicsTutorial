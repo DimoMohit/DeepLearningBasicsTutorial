{
 "cells": [
  {
   "cell_type": "markdown",
   "metadata": {},
   "source": [
    "# A Simple Neural Network Classifier\n",
    "\n",
    "It is easy to create a single-layer neural network using pytorch.\n",
    "\n",
    "The outputs of the neural network are merely linear combinations of the inputs.\n",
    "\n",
    "We have already seen how to do that in Exercise 210.\n",
    "\n",
    "You can turn the neural network's outputs into a decision about a category by treating each output as the neural network's *preference for a category*.\n",
    "\n",
    "The favoured category is the one represented by the output with the highest value.\n",
    "\n",
    "For example, if the outputs are $\\begin{bmatrix}11 & 12 & 13\\end{bmatrix}$ and they represent three classes $(0, 1, 2)$, the class chosen by the neural network is class $2$."
   ]
  },
  {
   "cell_type": "code",
   "execution_count": 1,
   "metadata": {},
   "outputs": [
    {
     "name": "stdout",
     "output_type": "stream",
     "text": [
      "tensor([[ 2.,  3.]])\n",
      "tensor([[ 0.,  6.],\n",
      "        [ 0.,  9.]])\n",
      "tensor([[  0.,  39.]])\n",
      "Selected category = tensor(1)\n"
     ]
    }
   ],
   "source": [
    "import torch\n",
    "\n",
    "data = torch.Tensor([[2, 3]])\n",
    "print(data)\n",
    "\n",
    "weights = torch.Tensor([[0, 6],[0, 9]])\n",
    "print(weights)\n",
    "\n",
    "result = torch.mm(data, weights)\n",
    "print(result)\n",
    "\n",
    "maxv, maxi = torch.max(result, 1)\n",
    "print(\"Selected category = \"+str(maxi[0]))"
   ]
  },
  {
   "cell_type": "markdown",
   "metadata": {},
   "source": [
    "## Exercise\n",
    "\n",
    "You'll see that this classifier consistently picks category 1, for all positive inputs, no matter what those inputs are.\n",
    "\n",
    "Can you come up with a classifier that always picks category 0?"
   ]
  },
  {
   "cell_type": "code",
   "execution_count": null,
   "metadata": {
    "collapsed": true
   },
   "outputs": [],
   "source": []
  }
 ],
 "metadata": {
  "kernelspec": {
   "display_name": "Python 3",
   "language": "python",
   "name": "python3"
  },
  "language_info": {
   "codemirror_mode": {
    "name": "ipython",
    "version": 3
   },
   "file_extension": ".py",
   "mimetype": "text/x-python",
   "name": "python",
   "nbconvert_exporter": "python",
   "pygments_lexer": "ipython3",
   "version": "3.6.5"
  }
 },
 "nbformat": 4,
 "nbformat_minor": 2
}
