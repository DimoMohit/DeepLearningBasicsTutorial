{
 "cells": [
  {
   "cell_type": "markdown",
   "metadata": {},
   "source": [
    "# Computing the Activation Functions for a Batch of Data\n",
    "\n",
    "You may want to compute the activations for various values of input data.\n",
    "\n",
    "Let's say we have a batch of output values like this\n",
    "\n",
    "$\\begin{bmatrix}-10.0 \\\\ -1.0 \\\\ 0.0 \\\\ 1.0 \\\\ 10.0 \\end{bmatrix}$\n",
    "\n",
    "We apply different activation functions to these to add a measure of non-linearity."
   ]
  },
  {
   "cell_type": "code",
   "execution_count": 9,
   "metadata": {},
   "outputs": [
    {
     "name": "stdout",
     "output_type": "stream",
     "text": [
      "sigmoid: \n",
      " 0.0000\n",
      " 0.0067\n",
      " 0.2689\n",
      " 0.5000\n",
      " 0.7311\n",
      " 0.9933\n",
      " 1.0000\n",
      "[torch.FloatTensor of size 7x1]\n",
      "\n",
      "tanh: Variable containing:\n",
      "-1.0000\n",
      "-0.9999\n",
      "-0.7616\n",
      " 0.0000\n",
      " 0.7616\n",
      " 0.9999\n",
      " 1.0000\n",
      "[torch.FloatTensor of size 7x1]\n",
      "\n",
      "ReLU: Variable containing:\n",
      "    0\n",
      "    0\n",
      "    0\n",
      "    0\n",
      "    1\n",
      "    5\n",
      "   10\n",
      "[torch.FloatTensor of size 7x1]\n",
      "\n"
     ]
    }
   ],
   "source": [
    "import torch\n",
    "import torch.nn.functional as F\n",
    "\n",
    "data = torch.Tensor([[-10.],[-5.],[-1.],[0],[1.0],[5.0],[10.0]])\n",
    "\n",
    "result = F.sigmoid(data)\n",
    "print(\"sigmoid: \" + str(result))\n",
    "\n",
    "result = F.tanh(torch.autograd.Variable(data))\n",
    "print(\"tanh: \" + str(result))\n",
    "\n",
    "result = F.relu(torch.autograd.Variable(data))\n",
    "print(\"ReLU: \" + str(result))"
   ]
  },
  {
   "cell_type": "markdown",
   "metadata": {},
   "source": [
    "## Sigmoid in Detail\n",
    "\n",
    "You can also see how the sigmoid function transforms the inputs from the space of real numbers to the space of 0 to 1."
   ]
  },
  {
   "cell_type": "code",
   "execution_count": 11,
   "metadata": {},
   "outputs": [
    {
     "name": "stdout",
     "output_type": "stream",
     "text": [
      "e^a: \n",
      " 4.5400e-05\n",
      " 6.7379e-03\n",
      " 3.6788e-01\n",
      " 1.0000e+00\n",
      " 2.7183e+00\n",
      " 1.4841e+02\n",
      " 2.2026e+04\n",
      "[torch.FloatTensor of size 7x1]\n",
      "\n"
     ]
    }
   ],
   "source": [
    "result = torch.exp(data)   # data is the preactivation 'a'\n",
    "print(\"e^a: \" + str(result))"
   ]
  },
  {
   "cell_type": "markdown",
   "metadata": {},
   "source": [
    "We can see that $e^{a}$ is positive for all values of $a$.\n",
    "\n",
    "Now, let's see what happens if we compute $1 + e^{a}$."
   ]
  },
  {
   "cell_type": "code",
   "execution_count": 12,
   "metadata": {},
   "outputs": [
    {
     "name": "stdout",
     "output_type": "stream",
     "text": [
      "1 + e^a: \n",
      "     1.0000\n",
      "     1.0067\n",
      "     1.3679\n",
      "     2.0000\n",
      "     3.7183\n",
      "   149.4132\n",
      " 22027.4648\n",
      "[torch.FloatTensor of size 7x1]\n",
      "\n"
     ]
    }
   ],
   "source": [
    "result = 1 + torch.exp(data)   # data is the preactivation 'a'\n",
    "print(\"1 + e^a: \" + str(result))"
   ]
  },
  {
   "cell_type": "markdown",
   "metadata": {},
   "source": [
    "Obviously $1 + e^{a}$ is greater than or equal to 1 for all values of $a$.\n"
   ]
  },
  {
   "cell_type": "code",
   "execution_count": 13,
   "metadata": {},
   "outputs": [
    {
     "name": "stdout",
     "output_type": "stream",
     "text": [
      "1 / (1 + e^a): \n",
      " 1.0000\n",
      " 0.9933\n",
      " 0.7311\n",
      " 0.5000\n",
      " 0.2689\n",
      " 0.0067\n",
      " 0.0000\n",
      "[torch.FloatTensor of size 7x1]\n",
      "\n"
     ]
    }
   ],
   "source": [
    "result = 1 / (1 + torch.exp(data))   # data is the preactivation 'a'\n",
    "print(\"1 / (1 + e^a): \" + str(result))"
   ]
  },
  {
   "cell_type": "markdown",
   "metadata": {},
   "source": [
    "Obviously, the multiplicative inverse (reciprocal) of $1 + e^{a}$ has to lie between 0 and 1 (because $1 + e^{a}$ is greater than $1$).\n",
    "\n",
    "The multiplicative inverse (reciprocal) of $1 + e^{a}$ is the sigmoid function."
   ]
  },
  {
   "cell_type": "code",
   "execution_count": null,
   "metadata": {
    "collapsed": true
   },
   "outputs": [],
   "source": []
  }
 ],
 "metadata": {
  "kernelspec": {
   "display_name": "Python 3",
   "language": "python",
   "name": "python3"
  },
  "language_info": {
   "codemirror_mode": {
    "name": "ipython",
    "version": 3
   },
   "file_extension": ".py",
   "mimetype": "text/x-python",
   "name": "python",
   "nbconvert_exporter": "python",
   "pygments_lexer": "ipython3",
   "version": "3.5.2"
  }
 },
 "nbformat": 4,
 "nbformat_minor": 2
}
