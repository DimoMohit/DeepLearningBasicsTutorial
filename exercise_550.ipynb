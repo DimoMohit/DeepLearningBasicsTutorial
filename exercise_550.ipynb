{
 "cells": [
  {
   "cell_type": "markdown",
   "metadata": {},
   "source": [
    "# Classifier for Toy Problem 2\n",
    "\n",
    "Now let's build a classifier for Toy Problem 2.\n",
    "\n",
    "We've provided a utility class 'Data' (in data_reader.py) to load the training data (it works for all the toy problems)."
   ]
  },
  {
   "cell_type": "code",
   "execution_count": 1,
   "metadata": {},
   "outputs": [
    {
     "name": "stdout",
     "output_type": "stream",
     "text": [
      "Labels:\n",
      "[1, 0, 0, 0, 0, 0, 0, 1, 0, 1]\n",
      "Features:\n",
      "[[-129, -43, -39], [-16, -47, -8], [10, -9, -74], [79, -37, 78], [6, -16, -60], [-89, -53, -58], [-10, -13, -36], [22, 5, 87], [97, 54, -24], [-26, 67, -76]]\n"
     ]
    }
   ],
   "source": [
    "import torch\n",
    "import torch.nn.functional as F\n",
    "from data_reader import Data\n",
    "\n",
    "data = Data(\"data/toy_problem_2_train.txt\")\n",
    "\n",
    "labels, features = data.get_sample()\n",
    "\n",
    "print(\"Labels:\\n\"+str(labels))\n",
    "\n",
    "print(\"Features:\\n\"+str(features))\n",
    "    \n",
    "target = torch.autograd.Variable(torch.LongTensor(labels))\n",
    "#print(\"Labels Tensor:\\n\"+str(target))\n",
    "\n",
    "features = torch.autograd.Variable(torch.Tensor(features))\n",
    "#print(\"Features Tensor:\\n\"+str(features))"
   ]
  },
  {
   "cell_type": "markdown",
   "metadata": {},
   "source": [
    "We initialize the weights randomly.\n",
    "\n",
    "We can now perform 100 learning iterations below as many times as we want.\n",
    "\n",
    "Each learning iteration involves a forward pass and a backward pass.\n",
    "\n",
    "The forward pass involves the computation of the loss from the training data and the current parameters.\n",
    "\n",
    "The backward pass is performed automatically by Pytorch when you call loss.backward().\n",
    "\n",
    "Pytorch calculates all the gradients with respect to the loss.\n",
    "\n",
    "These gradients are stored in each parameter's 'grad' member variable.\n",
    "\n",
    "Notice that the code for the learning iterations is identical to that of exercise 530."
   ]
  },
  {
   "cell_type": "code",
   "execution_count": 2,
   "metadata": {},
   "outputs": [
    {
     "name": "stdout",
     "output_type": "stream",
     "text": [
      "Parameter containing:\n",
      "tensor([[ 0.4596,  0.9073],\n",
      "        [ 0.6013,  0.7067],\n",
      "        [ 0.9755,  0.7520]])\n",
      "The loss is now 29.493865966796875\n",
      "The loss is now 7.268073081970215\n",
      "The loss is now 1.625640209113044e-07\n",
      "The loss is now 2.661051601293707e-09\n",
      "The loss is now 0.0\n",
      "The loss is now 0.0009861207799986005\n",
      "The loss is now 1.0640384129345648e-09\n",
      "The loss is now 0.00027035799575969577\n",
      "The loss is now 1.0336540937423706\n",
      "The loss is now 2.6576312261994417e-09\n",
      "The loss is now 6.606862168467842e-09\n",
      "\tThe weights are now tensor([[ 1.2385,  0.1284],\n",
      "        [ 0.1091,  1.1989],\n",
      "        [ 0.2346,  1.4929]])\n"
     ]
    }
   ],
   "source": [
    "weights = torch.nn.Parameter(torch.rand(3, 2))\n",
    "print(weights)\n",
    "\n",
    "for i in range(101):\n",
    "    labels, features = data.get_sample(10)\n",
    "    \n",
    "    features = torch.autograd.Variable(torch.Tensor(features))\n",
    "    #print(data)\n",
    "    \n",
    "    target = torch.autograd.Variable(torch.LongTensor(labels))\n",
    "    #print(target)\n",
    "    \n",
    "    result = torch.mm(features, weights)\n",
    "    #print(result)\n",
    "    \n",
    "    loss = F.cross_entropy(result, target)\n",
    "    #print(\"Cross entropy loss: \"+str(loss))\n",
    "    \n",
    "    #result = F.softmax(result)\n",
    "    #result = torch.log(result)\n",
    "    #print(\"Log softmax: \"+str(result))\n",
    "    #loss = F.nll_loss(result, target)\n",
    "    #print(\"Cross entropy loss: \"+str(loss))\n",
    "    \n",
    "    loss.backward()\n",
    "    \n",
    "    gradient = weights.grad\n",
    "    \n",
    "    learning_rate = 0.01\n",
    "    \n",
    "    weights.data = weights.data - learning_rate * gradient.data\n",
    "    \n",
    "    if i % 10 == 0:\n",
    "        print(\"The loss is now \"+str(loss.data.item()))\n",
    "    \n",
    "    weights.grad.data.zero_()\n",
    "\n",
    "print(\"\\tThe weights are now \"+str(weights.data))\n",
    "\n",
    "torch.save(weights, \"models/toy_problem_2_trained_model.bin\")"
   ]
  },
  {
   "cell_type": "markdown",
   "metadata": {
    "collapsed": true
   },
   "source": [
    "## Parameters\n",
    "\n",
    "As we know, the final parameters learnt by the algorithm should look something like this\n",
    "\n",
    "$$\\begin{bmatrix}1 & 0 \\\\ 0 & 1 \\\\ 0 & 1\\end{bmatrix}$$\n",
    "\n",
    "or this\n",
    "\n",
    "$$\\begin{bmatrix}2 & 1 \\\\ 1 & 2 \\\\ 1 & 2\\end{bmatrix}$$\n",
    "\n",
    "Basically the weights values at 0,0 and 1,1 and 2,1 in the matrix should be higher than the weights at 1,0 and 0,1 and 2,0."
   ]
  },
  {
   "cell_type": "markdown",
   "metadata": {},
   "source": [
    "## Classifier for Toy Problem 2\n",
    "\n",
    "We have just trained a classifier for Toy Problem 2.\n",
    "\n",
    "You can evaluate the performance of the classifier on the test data."
   ]
  },
  {
   "cell_type": "code",
   "execution_count": 3,
   "metadata": {},
   "outputs": [
    {
     "name": "stdout",
     "output_type": "stream",
     "text": [
      "tensor([[ 1.2385,  0.1284],\n",
      "        [ 0.1091,  1.1989],\n",
      "        [ 0.2346,  1.4929]])\n",
      "Accuracy: 0.969\n"
     ]
    }
   ],
   "source": [
    "data = Data(\"data/toy_problem_2_test.txt\")\n",
    "\n",
    "weights = torch.load(\"models/toy_problem_2_trained_model.bin\")\n",
    "print(weights)\n",
    "\n",
    "labels, features = data.get_all()\n",
    "\n",
    "features = torch.autograd.Variable(torch.Tensor(features))\n",
    "#print(features)\n",
    "\n",
    "target = torch.autograd.Variable(torch.LongTensor(labels))\n",
    "#print(target)\n",
    "\n",
    "result = torch.mm(features, weights)\n",
    "#print(result)\n",
    "\n",
    "maxv, observed = torch.max(result, 1)\n",
    "\n",
    "total = 0\n",
    "correct = 0\n",
    "for i in range(len(labels)):\n",
    "    total += 1\n",
    "    #print(str(target.data[i]) + \" \" + str(observed.data[i]))\n",
    "    if target.data[i] == observed.data[i]:\n",
    "        correct += 1\n",
    "accuracy = correct / total\n",
    "print(\"Accuracy: \"+str(accuracy))"
   ]
  },
  {
   "cell_type": "code",
   "execution_count": null,
   "metadata": {
    "collapsed": true
   },
   "outputs": [],
   "source": []
  }
 ],
 "metadata": {
  "kernelspec": {
   "display_name": "Python 3",
   "language": "python",
   "name": "python3"
  },
  "language_info": {
   "codemirror_mode": {
    "name": "ipython",
    "version": 3
   },
   "file_extension": ".py",
   "mimetype": "text/x-python",
   "name": "python",
   "nbconvert_exporter": "python",
   "pygments_lexer": "ipython3",
   "version": "3.6.5"
  }
 },
 "nbformat": 4,
 "nbformat_minor": 2
}
