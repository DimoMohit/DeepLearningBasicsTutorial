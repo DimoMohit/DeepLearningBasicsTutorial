{
 "cells": [
  {
   "cell_type": "markdown",
   "metadata": {},
   "source": [
    "# Generating Data for Toy Problem 1\n",
    "\n",
    "In Toy Problem 1, for all inputs $f = \\begin{bmatrix}f_{1} & f_{2}\\end{bmatrix}$ and output categories $0$ and $1$, if $f_{1} < f_{2}$ then the output category selected is $1$ else it is $0$.\n",
    "\n",
    "We can easily generate some training data with these properties."
   ]
  },
  {
   "cell_type": "code",
   "execution_count": 1,
   "metadata": {},
   "outputs": [],
   "source": [
    "import random\n",
    "\n",
    "file = open(\"data/toy_problem_1_train.txt\", \"w\")\n",
    "\n",
    "for i in range(1000):\n",
    "    y = random.randint(-100,100)\n",
    "    x = random.randint(-100,100)\n",
    "    if x == y:\n",
    "        y += 1\n",
    "    label = 0 if y < x else 1\n",
    "    file.write(str(label)+\"\\t\"+str(x)+\" \"+str(y)+\"\\n\")\n",
    "\n",
    "file.flush()\n",
    "file.close()"
   ]
  },
  {
   "cell_type": "markdown",
   "metadata": {},
   "source": [
    "We just created 1000 data points and wrote them to a TSV file.\n",
    "\n",
    "The first column (before the tab) contains the labels, and the second column contains the features.\n",
    "\n",
    "# Generating Data for Toy Problem 2\n",
    "\n",
    "This is just as easy."
   ]
  },
  {
   "cell_type": "code",
   "execution_count": 2,
   "metadata": {},
   "outputs": [],
   "source": [
    "import random\n",
    "\n",
    "file = open(\"data/toy_problem_2_train.txt\", \"w\")\n",
    "\n",
    "for i in range(1000):\n",
    "    y = random.randint(-100,100)\n",
    "    z = random.randint(-100,100)\n",
    "    x = y + z\n",
    "    label = random.randint(0,1)\n",
    "    if label == 0:  # y + z < x\n",
    "        x += random.randint(1,100)\n",
    "    else:  # y + z > x\n",
    "        x -= random.randint(1,100)\n",
    "    file.write(str(label)+\"\\t\"+str(x)+\" \"+str(y)+\" \"+str(z)+\"\\n\")\n",
    "\n",
    "file.flush()\n",
    "file.close()"
   ]
  },
  {
   "cell_type": "markdown",
   "metadata": {},
   "source": [
    "We've created training datasets.\n",
    "\n",
    "For testing, we should use an entirely different set of points.\n",
    "\n",
    "We approximate that by running the above scripts with the third line changed to\n",
    "\n",
    "`file = open(\"data/toy_problem_1_test.txt\", \"w\")`\n",
    "\n",
    "and\n",
    "\n",
    "`file = open(\"data/toy_problem_2_test.txt\", \"w\")`\n",
    "\n",
    "respectively."
   ]
  },
  {
   "cell_type": "code",
   "execution_count": null,
   "metadata": {
    "collapsed": true
   },
   "outputs": [],
   "source": []
  }
 ],
 "metadata": {
  "kernelspec": {
   "display_name": "Python 3",
   "language": "python",
   "name": "python3"
  },
  "language_info": {
   "codemirror_mode": {
    "name": "ipython",
    "version": 3
   },
   "file_extension": ".py",
   "mimetype": "text/x-python",
   "name": "python",
   "nbconvert_exporter": "python",
   "pygments_lexer": "ipython3",
   "version": "3.6.5"
  }
 },
 "nbformat": 4,
 "nbformat_minor": 2
}
