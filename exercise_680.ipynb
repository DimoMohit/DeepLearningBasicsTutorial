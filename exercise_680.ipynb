{
 "cells": [
  {
   "cell_type": "markdown",
   "metadata": {},
   "source": [
    "# Multi-Layer Neural Network using Sigmoid Activation for Toy Problem 3\n",
    "\n",
    "In exercise 670, we built a multi-layer classifier for Toy Problem 3 and used **the ReLU as the activation function**.\n",
    "\n",
    "Let's see **what happens if we use a sigmoid** instead of the ReLU.\n",
    "\n",
    "Note: The sigmoid non-linearity was the most commonly used \"squashing function\" or non-linearity before the advent of the ReLU.\n",
    "\n",
    "Also Note:  We've changed nothing from the code of exercise_670 except the ReLU to the sigmoid.\n",
    "\n",
    "We've provided a utility class 'Data' (in data_reader.py) to load the training data (it works for all the toy problems)."
   ]
  },
  {
   "cell_type": "code",
   "execution_count": 1,
   "metadata": {},
   "outputs": [
    {
     "name": "stdout",
     "output_type": "stream",
     "text": [
      "Labels:\n",
      "[1, 0, 1, 1, 1, 1, 1, 0, 1, 0]\n",
      "Features:\n",
      "[[87, -23], [32, 34], [44, -46], [22, -69], [-75, 91], [87, -7], [-94, 18], [70, 22], [-1, 8], [20, 48]]\n"
     ]
    }
   ],
   "source": [
    "import torch\n",
    "import torch.nn.functional as F\n",
    "from data_reader import Data\n",
    "\n",
    "data = Data(\"data/toy_problem_3_train.txt\")\n",
    "\n",
    "labels, features = data.get_sample()\n",
    "\n",
    "print(\"Labels:\\n\"+str(labels))\n",
    "\n",
    "print(\"Features:\\n\"+str(features))\n",
    "    \n",
    "target = torch.autograd.Variable(torch.LongTensor(labels))\n",
    "#print(\"Labels Tensor:\\n\"+str(target))\n",
    "\n",
    "features = torch.autograd.Variable(torch.Tensor(features))\n",
    "#print(\"Features Tensor:\\n\"+str(features))"
   ]
  },
  {
   "cell_type": "markdown",
   "metadata": {},
   "source": [
    "We initialize the weights (one set of weights per layer) randomly."
   ]
  },
  {
   "cell_type": "code",
   "execution_count": 2,
   "metadata": {},
   "outputs": [
    {
     "name": "stdout",
     "output_type": "stream",
     "text": [
      "Weights1 => Parameter containing:\n",
      "tensor([[ 0.5590,  0.5279,  0.6394,  0.4857],\n",
      "        [ 0.8009,  0.4655,  0.4313,  0.1399]])\n",
      "Weights2 => Parameter containing:\n",
      "tensor([[ 0.0429,  0.9055],\n",
      "        [ 0.2008,  0.9115],\n",
      "        [ 0.2530,  0.3775],\n",
      "        [ 0.5487,  0.1264]])\n"
     ]
    }
   ],
   "source": [
    "middle = 4\n",
    "\n",
    "weights1 = torch.nn.Parameter(torch.rand(2, middle))\n",
    "print(\"Weights1 => \"+str(weights1))\n",
    "\n",
    "weights2 = torch.nn.Parameter(torch.rand(middle, 2))\n",
    "print(\"Weights2 => \"+str(weights2))\n"
   ]
  },
  {
   "cell_type": "markdown",
   "metadata": {},
   "source": [
    "We can now perform 1000 learning iterations below as many times as we want.\n",
    "\n",
    "Notice that the code for the learning iterations is almost identical to that of exercise 630 but that we've used the Adam optimizer class in Pytorch to nudge the weights in the direction they must go."
   ]
  },
  {
   "cell_type": "code",
   "execution_count": 3,
   "metadata": {},
   "outputs": [
    {
     "name": "stdout",
     "output_type": "stream",
     "text": [
      "The loss is now 0.7574540972709656\n",
      "The loss is now 0.7175595164299011\n",
      "The loss is now 0.6913857460021973\n",
      "The loss is now 0.698091447353363\n",
      "The loss is now 0.6923474073410034\n",
      "The loss is now 0.6937881708145142\n",
      "The loss is now 0.69038987159729\n",
      "The loss is now 0.6925729513168335\n",
      "The loss is now 0.6897422075271606\n",
      "The loss is now 0.6919993162155151\n",
      "The loss is now 0.6926519274711609\n",
      "The loss is now 0.6930178999900818\n",
      "The loss is now 0.6905223727226257\n",
      "The loss is now 0.6888645887374878\n",
      "The loss is now 0.692439079284668\n",
      "The loss is now 0.6946567296981812\n",
      "The loss is now 0.6904807090759277\n",
      "The loss is now 0.6891172528266907\n",
      "The loss is now 0.6931989789009094\n",
      "The loss is now 0.6928488612174988\n",
      "The loss is now 0.6929441690444946\n",
      "The loss is now 0.6920353770256042\n",
      "The loss is now 0.6916951537132263\n",
      "The loss is now 0.6908668875694275\n",
      "The loss is now 0.6910408139228821\n",
      "The loss is now 0.691026508808136\n",
      "The loss is now 0.6910014152526855\n",
      "The loss is now 0.6886860132217407\n",
      "The loss is now 0.6922541260719299\n",
      "The loss is now 0.691875696182251\n",
      "The loss is now 0.6917444467544556\n",
      "The loss is now 0.6883002519607544\n",
      "The loss is now 0.6910855174064636\n",
      "The loss is now 0.6935182213783264\n",
      "The loss is now 0.6919752955436707\n",
      "The loss is now 0.6888902187347412\n",
      "The loss is now 0.6906837224960327\n",
      "The loss is now 0.6905686259269714\n",
      "The loss is now 0.6928959488868713\n",
      "The loss is now 0.6943134069442749\n",
      "The loss is now 0.6916762590408325\n",
      "The loss is now 0.6906510591506958\n",
      "The loss is now 0.6905978918075562\n",
      "The loss is now 0.6931965947151184\n",
      "The loss is now 0.6910948157310486\n",
      "The loss is now 0.6916779279708862\n",
      "The loss is now 0.6905041933059692\n",
      "The loss is now 0.6924164891242981\n",
      "The loss is now 0.6944016218185425\n",
      "The loss is now 0.6937813758850098\n",
      "The loss is now 0.6921575665473938\n",
      "The loss is now 0.6943770051002502\n",
      "The loss is now 0.6940064430236816\n",
      "The loss is now 0.6914878487586975\n",
      "The loss is now 0.6887677907943726\n",
      "The loss is now 0.6936392784118652\n",
      "The loss is now 0.6915984153747559\n",
      "The loss is now 0.6929754018783569\n",
      "The loss is now 0.6936049461364746\n",
      "The loss is now 0.6922146677970886\n",
      "The loss is now 0.6891668438911438\n",
      "The loss is now 0.6879374980926514\n",
      "The loss is now 0.6910797357559204\n",
      "The loss is now 0.6926683187484741\n",
      "The loss is now 0.6905885338783264\n",
      "The loss is now 0.6903164386749268\n",
      "The loss is now 0.6899848580360413\n",
      "The loss is now 0.691786527633667\n",
      "The loss is now 0.693302571773529\n",
      "The loss is now 0.69096839427948\n",
      "The loss is now 0.6920490264892578\n",
      "The loss is now 0.6900103092193604\n",
      "The loss is now 0.6901254057884216\n",
      "The loss is now 0.6903102397918701\n",
      "The loss is now 0.6944136023521423\n",
      "The loss is now 0.6922978162765503\n",
      "The loss is now 0.6968792080879211\n",
      "The loss is now 0.6927089691162109\n",
      "The loss is now 0.6941702961921692\n",
      "The loss is now 0.69158536195755\n",
      "The loss is now 0.6891099214553833\n",
      "The loss is now 0.6950258612632751\n",
      "The loss is now 0.6960723400115967\n",
      "The loss is now 0.6928895115852356\n",
      "The loss is now 0.6928436756134033\n",
      "The loss is now 0.6904705166816711\n",
      "The loss is now 0.6902874708175659\n",
      "The loss is now 0.6930742859840393\n",
      "The loss is now 0.6921645402908325\n",
      "The loss is now 0.6895774602890015\n",
      "The loss is now 0.691631555557251\n",
      "The loss is now 0.6910675168037415\n",
      "The loss is now 0.6907373070716858\n",
      "The loss is now 0.6917190551757812\n",
      "The loss is now 0.691938042640686\n",
      "The loss is now 0.6957346200942993\n",
      "The loss is now 0.6901488900184631\n",
      "The loss is now 0.6909851431846619\n",
      "The loss is now 0.6914016008377075\n",
      "The loss is now 0.689825177192688\n",
      "The loss is now 0.6897809505462646\n"
     ]
    }
   ],
   "source": [
    "optimizer = torch.optim.Adam([weights1, weights2], lr=0.01)\n",
    "\n",
    "for i in range(1001):\n",
    "    optimizer.zero_grad()   # zero the gradient buffers\n",
    "    \n",
    "    labels, features = data.get_sample(1000)\n",
    "    \n",
    "    features = torch.autograd.Variable(torch.Tensor(features))\n",
    "    #print(\"Features: \"+str(features))\n",
    "    \n",
    "    target = torch.autograd.Variable(torch.LongTensor(labels))\n",
    "    #print(\"Target: \"+str(target))\n",
    "    \n",
    "    result = features.mm(weights1)\n",
    "    result1 = F.sigmoid(result)\n",
    "    result2 = result1.mm(weights2)\n",
    "    \n",
    "    loss = F.cross_entropy(result2, target)\n",
    "    #print(\"Cross entropy loss: \"+str(loss))\n",
    "\n",
    "    loss.backward()\n",
    "    \n",
    "    optimizer.step()\n",
    "        \n",
    "    if i % 10 == 0:\n",
    "        print(\"The loss is now \"+str(loss.data.item()))\n",
    "\n",
    "torch.save(weights1, \"models/toy_problem_3_trained_deep_model_weights1.bin\")\n",
    "torch.save(weights2, \"models/toy_problem_3_trained_deep_model_weights2.bin\")"
   ]
  },
  {
   "cell_type": "markdown",
   "metadata": {
    "collapsed": true
   },
   "source": [
    "## The Loss\n",
    "\n",
    "Observe the loss that is printed at the end of every 10 iterations.\n",
    "\n",
    "Now matter how many hundreds of times you run the hill-climbing code, the loss does not decrease very much.\n",
    "\n",
    "This tells us that the machine learning algorithm is probably not learning anthing much.\n",
    "\n",
    "## Parameters\n",
    "\n",
    "We can now print the weights."
   ]
  },
  {
   "cell_type": "code",
   "execution_count": 4,
   "metadata": {},
   "outputs": [
    {
     "name": "stdout",
     "output_type": "stream",
     "text": [
      "The first layer weights are now tensor([[ 0.5763,  0.9937,  0.7670,  0.2050],\n",
      "        [ 1.0866,  0.3080,  0.3730,  0.4365]])\n",
      "and the second layer's weights are now tensor([[ 0.0819,  0.8665],\n",
      "        [ 0.3775,  0.7348],\n",
      "        [ 0.5055,  0.1251],\n",
      "        [ 0.6643,  0.0109]])\n"
     ]
    }
   ],
   "source": [
    "print(\"The first layer weights are now \"+str(weights1.data))\n",
    "print(\"and the second layer's weights are now \"+str(weights2.data))"
   ]
  },
  {
   "cell_type": "markdown",
   "metadata": {},
   "source": [
    "## Classifier Test - Toy Problem 3\n",
    "\n",
    "We have just trained a multilayer classifier for Toy Problem 3.\n",
    "\n",
    "It doesn't seem to be learning anything (the loss on the training data does not decrease).\n",
    "\n",
    "But, to make sure, let us evaluate the performance of the classifier on the test data."
   ]
  },
  {
   "cell_type": "code",
   "execution_count": 5,
   "metadata": {},
   "outputs": [
    {
     "name": "stdout",
     "output_type": "stream",
     "text": [
      "tensor([[ 0.5763,  0.9937,  0.7670,  0.2050],\n",
      "        [ 1.0866,  0.3080,  0.3730,  0.4365]])\n",
      "tensor([[ 0.0819,  0.8665],\n",
      "        [ 0.3775,  0.7348],\n",
      "        [ 0.5055,  0.1251],\n",
      "        [ 0.6643,  0.0109]])\n",
      "Accuracy: 0.523\n"
     ]
    }
   ],
   "source": [
    "data = Data(\"data/toy_problem_3_test.txt\")\n",
    "\n",
    "weights1 = torch.load(\"models/toy_problem_3_trained_deep_model_weights1.bin\")\n",
    "print(weights1)\n",
    "weights2 = torch.load(\"models/toy_problem_3_trained_deep_model_weights2.bin\")\n",
    "print(weights2)\n",
    "\n",
    "labels, features = data.get_all()\n",
    "\n",
    "features = torch.autograd.Variable(torch.Tensor(features))\n",
    "#print(features)\n",
    "\n",
    "target = torch.autograd.Variable(torch.LongTensor(labels))\n",
    "#print(target)\n",
    "\n",
    "result = torch.mm(features, weights1)\n",
    "result1 = F.sigmoid(result)\n",
    "result2 = torch.mm(result1, weights2)\n",
    "#print(result2)\n",
    "\n",
    "maxv, observed = torch.max(result2, 1)\n",
    "\n",
    "total = 0\n",
    "correct = 0\n",
    "for i in range(len(labels)):\n",
    "    total += 1\n",
    "    #print(str(target.data[i]) + \" \" + str(observed.data[i]))\n",
    "    if target.data[i] == observed.data[i]:\n",
    "        correct += 1\n",
    "accuracy = correct / total\n",
    "print(\"Accuracy: \"+str(accuracy))"
   ]
  },
  {
   "cell_type": "markdown",
   "metadata": {
    "collapsed": true
   },
   "source": [
    "As you can see, the accuracy is around 50%.\n",
    "\n",
    "This the classifier hasn't learnt anything at all.\n",
    "\n",
    "It tells us that the multi-layer neural network (without a bias term) was **not able to learn the non-linear XOR function using the sigmoid activation function**, though **it was able to learn the same function using the ReLU** activation function.\n",
    "\n",
    "Note:  This does not mean that a multi-layer neural network (using sigmoid activation) can never learn the non-linear XOR function.  It can, as we shall see in the next exercise - if the neural network uses bias parameters in each layer in addition to the weights."
   ]
  },
  {
   "cell_type": "code",
   "execution_count": null,
   "metadata": {
    "collapsed": true
   },
   "outputs": [],
   "source": []
  }
 ],
 "metadata": {
  "kernelspec": {
   "display_name": "Python 3",
   "language": "python",
   "name": "python3"
  },
  "language_info": {
   "codemirror_mode": {
    "name": "ipython",
    "version": 3
   },
   "file_extension": ".py",
   "mimetype": "text/x-python",
   "name": "python",
   "nbconvert_exporter": "python",
   "pygments_lexer": "ipython3",
   "version": "3.6.5"
  }
 },
 "nbformat": 4,
 "nbformat_minor": 2
}
