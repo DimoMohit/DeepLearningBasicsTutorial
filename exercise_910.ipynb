{
 "cells": [
  {
   "cell_type": "markdown",
   "metadata": {},
   "source": [
    "# Generating Training Data for Toy Problem 5\n",
    "\n",
    "How do we train a classifier to count the non-zero values in a sequence of integers.\n",
    "\n",
    "We can easily generate some training data whose features are a sequence of $1$s and $0$ and whose output label is the count of those non-zero features."
   ]
  },
  {
   "cell_type": "code",
   "execution_count": 1,
   "metadata": {},
   "outputs": [],
   "source": [
    "import random\n",
    "\n",
    "file = open(\"data/toy_problem_5_train.txt\", \"w\")\n",
    "\n",
    "sequence_length = 20\n",
    "\n",
    "for i in range(1000):\n",
    "    label = random.randint(0,sequence_length)\n",
    "    x = [0] * 20\n",
    "    for i in range(label):\n",
    "        position = random.randint(0, sequence_length-1)\n",
    "        while position < sequence_length-1 and x[position] == 1:\n",
    "            position += 1\n",
    "        x[position] = 1\n",
    "    label = sum(x)\n",
    "    x = [str(item) for item in x ]\n",
    "    x = \" \".join(x)\n",
    "    file.write(str(label)+\"\\t\"+str(x)+\"\\n\")\n",
    "\n",
    "file.flush()\n",
    "file.close()"
   ]
  },
  {
   "cell_type": "markdown",
   "metadata": {},
   "source": [
    "We just created 1000 data points and wrote them to a TSV file.\n",
    "\n",
    "The first column (before the tab) contains the counts, and the second column contains the lists of $0$s and $1$s.\n",
    "\n",
    "We've created training and test datasets for the sequential classification problem."
   ]
  },
  {
   "cell_type": "markdown",
   "metadata": {},
   "source": [
    "# Generating Testing Data\n",
    "\n",
    "Testing data can be generated in a similar manner as well."
   ]
  },
  {
   "cell_type": "code",
   "execution_count": 2,
   "metadata": {
    "collapsed": true
   },
   "outputs": [],
   "source": [
    "import random\n",
    "\n",
    "file = open(\"data/toy_problem_5_test.txt\", \"w\")\n",
    "\n",
    "sequence_length = 20\n",
    "\n",
    "for i in range(1000):\n",
    "    label = random.randint(0,sequence_length)\n",
    "    x = [0] * 20\n",
    "    for i in range(label):\n",
    "        position = random.randint(0, sequence_length-1)\n",
    "        while position < sequence_length-1 and x[position] == 1:\n",
    "            position += 1\n",
    "        x[position] = 1\n",
    "    label = sum(x)\n",
    "    x = [str(item) for item in x ]\n",
    "    x = \" \".join(x)\n",
    "    file.write(str(label)+\"\\t\"+str(x)+\"\\n\")\n",
    "\n",
    "file.flush()\n",
    "file.close()"
   ]
  },
  {
   "cell_type": "code",
   "execution_count": null,
   "metadata": {
    "collapsed": true
   },
   "outputs": [],
   "source": []
  }
 ],
 "metadata": {
  "kernelspec": {
   "display_name": "Python 3",
   "language": "python",
   "name": "python3"
  },
  "language_info": {
   "codemirror_mode": {
    "name": "ipython",
    "version": 3
   },
   "file_extension": ".py",
   "mimetype": "text/x-python",
   "name": "python",
   "nbconvert_exporter": "python",
   "pygments_lexer": "ipython3",
   "version": "3.5.2"
  }
 },
 "nbformat": 4,
 "nbformat_minor": 2
}
