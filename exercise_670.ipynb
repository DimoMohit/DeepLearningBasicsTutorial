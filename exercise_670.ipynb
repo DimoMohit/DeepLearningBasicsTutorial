{
 "cells": [
  {
   "cell_type": "markdown",
   "metadata": {},
   "source": [
    "# Multi-Layer Neural Network Classifier for Toy Problem 3\n",
    "\n",
    "In exercise 630, we built a single layer classifier for Toy Problem 3.\n",
    "\n",
    "We saw that for the single-layer neural network, the loss did not decrease despite the prolonged use of gradient descent.\n",
    "\n",
    "The data used in Toy Problem 3 was a version of the XOR function -the categories in this data set are not linearly separable - and so it is impossible for a single-layer neural network (or any other linear classifier) to do well on this dataset.\n",
    "\n",
    "Now let's build a multi-layer classifier for Toy Problem 3 using the ReLU non-linearity (which was discovered/invented only in the year 2000) and see how it fares.\n",
    "\n",
    "We've provided a utility class 'Data' (in data_reader.py) to load the training data (it works for all the toy problems)."
   ]
  },
  {
   "cell_type": "code",
   "execution_count": 1,
   "metadata": {},
   "outputs": [
    {
     "name": "stdout",
     "output_type": "stream",
     "text": [
      "Labels:\n",
      "[1, 0, 1, 0, 0, 0, 1, 1, 0, 1]\n",
      "Features:\n",
      "[[28, -24], [-40, -48], [-79, 12], [-28, -98], [-9, -91], [22, 64], [58, -6], [99, -16], [-6, -7], [-36, 43]]\n"
     ]
    }
   ],
   "source": [
    "import torch\n",
    "import torch.nn.functional as F\n",
    "from data_reader import Data\n",
    "\n",
    "data = Data(\"data/toy_problem_3_train.txt\")\n",
    "\n",
    "labels, features = data.get_sample()\n",
    "\n",
    "print(\"Labels:\\n\"+str(labels))\n",
    "\n",
    "print(\"Features:\\n\"+str(features))\n",
    "    \n",
    "target = torch.autograd.Variable(torch.LongTensor(labels))\n",
    "#print(\"Labels Tensor:\\n\"+str(target))\n",
    "\n",
    "features = torch.autograd.Variable(torch.Tensor(features))\n",
    "#print(\"Features Tensor:\\n\"+str(features))"
   ]
  },
  {
   "cell_type": "markdown",
   "metadata": {},
   "source": [
    "We initialize the weights (one set of weights per layer) randomly."
   ]
  },
  {
   "cell_type": "code",
   "execution_count": 2,
   "metadata": {},
   "outputs": [
    {
     "name": "stdout",
     "output_type": "stream",
     "text": [
      "Weights1 => Parameter containing:\n",
      "tensor([[ 0.8643,  0.9986,  0.7930,  0.6866],\n",
      "        [ 0.1748,  0.6669,  0.2100,  0.0473]])\n",
      "Weights2 => Parameter containing:\n",
      "tensor([[ 0.9471,  0.9182],\n",
      "        [ 0.0255,  0.2166],\n",
      "        [ 0.6838,  0.3335],\n",
      "        [ 0.8089,  0.7325]])\n"
     ]
    }
   ],
   "source": [
    "middle = 4\n",
    "\n",
    "weights1 = torch.nn.Parameter(torch.rand(2, middle))\n",
    "print(\"Weights1 => \"+str(weights1))\n",
    "\n",
    "weights2 = torch.nn.Parameter(torch.rand(middle, 2))\n",
    "print(\"Weights2 => \"+str(weights2))\n"
   ]
  },
  {
   "cell_type": "markdown",
   "metadata": {},
   "source": [
    "We can now perform 1000 learning iterations below as many times as we want.\n",
    "\n",
    "Notice that the code for the learning iterations is almost identical to that of exercise Adam but that we've used the SGD optimizer class in Pytorch to nudge the weights in the direction they must go."
   ]
  },
  {
   "cell_type": "code",
   "execution_count": 3,
   "metadata": {},
   "outputs": [
    {
     "name": "stdout",
     "output_type": "stream",
     "text": [
      "The loss is now 2.756173849105835\n",
      "The loss is now 0.6389186978340149\n",
      "The loss is now 0.6298412680625916\n",
      "The loss is now 0.6763184666633606\n",
      "The loss is now 0.5558179616928101\n",
      "The loss is now 0.49082499742507935\n",
      "The loss is now 0.4915899336338043\n",
      "The loss is now 0.46581557393074036\n",
      "The loss is now 0.45589393377304077\n",
      "The loss is now 0.44978952407836914\n",
      "The loss is now 0.43294915556907654\n",
      "The loss is now 0.4207729399204254\n",
      "The loss is now 0.36652064323425293\n",
      "The loss is now 0.31385186314582825\n",
      "The loss is now 0.29051724076271057\n",
      "The loss is now 0.2532366216182709\n",
      "The loss is now 0.27499422430992126\n",
      "The loss is now 0.2722074091434479\n",
      "The loss is now 0.25757089257240295\n",
      "The loss is now 0.25776299834251404\n",
      "The loss is now 0.25943371653556824\n",
      "The loss is now 0.24867649376392365\n",
      "The loss is now 0.23981423676013947\n",
      "The loss is now 0.2563263177871704\n",
      "The loss is now 0.2491896003484726\n",
      "The loss is now 0.23097574710845947\n",
      "The loss is now 0.23793457448482513\n",
      "The loss is now 0.22942709922790527\n",
      "The loss is now 0.2339836061000824\n",
      "The loss is now 0.24244840443134308\n",
      "The loss is now 0.23419959843158722\n",
      "The loss is now 0.24716629087924957\n",
      "The loss is now 0.2374849170446396\n",
      "The loss is now 0.21681402623653412\n",
      "The loss is now 0.2639799118041992\n",
      "The loss is now 0.23142626881599426\n",
      "The loss is now 0.22081241011619568\n",
      "The loss is now 0.23485995829105377\n",
      "The loss is now 0.2269955724477768\n",
      "The loss is now 0.23425054550170898\n",
      "The loss is now 0.2483425736427307\n",
      "The loss is now 0.2586153745651245\n",
      "The loss is now 0.2261524349451065\n",
      "The loss is now 0.24213998019695282\n",
      "The loss is now 0.21182191371917725\n",
      "The loss is now 0.21284766495227814\n",
      "The loss is now 0.22845397889614105\n",
      "The loss is now 0.229744553565979\n",
      "The loss is now 0.21868394315242767\n",
      "The loss is now 0.23974308371543884\n",
      "The loss is now 0.21497081220149994\n",
      "The loss is now 0.24494946002960205\n",
      "The loss is now 0.22366449236869812\n",
      "The loss is now 0.22424033284187317\n",
      "The loss is now 0.2164030224084854\n",
      "The loss is now 0.2125808447599411\n",
      "The loss is now 0.22167806327342987\n",
      "The loss is now 0.23304837942123413\n",
      "The loss is now 0.22066523134708405\n",
      "The loss is now 0.22287727892398834\n",
      "The loss is now 0.21236439049243927\n",
      "The loss is now 0.23937122523784637\n",
      "The loss is now 0.24652482569217682\n",
      "The loss is now 0.20975089073181152\n",
      "The loss is now 0.23484596610069275\n",
      "The loss is now 0.2164413034915924\n",
      "The loss is now 0.2371818721294403\n",
      "The loss is now 0.22793418169021606\n",
      "The loss is now 0.23568156361579895\n",
      "The loss is now 0.20980538427829742\n",
      "The loss is now 0.21280871331691742\n",
      "The loss is now 0.22116610407829285\n",
      "The loss is now 0.20537441968917847\n",
      "The loss is now 0.23493057489395142\n",
      "The loss is now 0.22228066623210907\n",
      "The loss is now 0.211504265666008\n",
      "The loss is now 0.18110978603363037\n",
      "The loss is now 0.21347731351852417\n",
      "The loss is now 0.21062399446964264\n",
      "The loss is now 0.21254514157772064\n",
      "The loss is now 0.21696552634239197\n",
      "The loss is now 0.22071437537670135\n",
      "The loss is now 0.2210220843553543\n",
      "The loss is now 0.1996675729751587\n",
      "The loss is now 0.20673349499702454\n",
      "The loss is now 0.2319980263710022\n",
      "The loss is now 0.2163648158311844\n",
      "The loss is now 0.21077905595302582\n",
      "The loss is now 0.21004550158977509\n",
      "The loss is now 0.21466472744941711\n",
      "The loss is now 0.21784915030002594\n",
      "The loss is now 0.21789635717868805\n",
      "The loss is now 0.21344523131847382\n",
      "The loss is now 0.20670448243618011\n",
      "The loss is now 0.21728770434856415\n",
      "The loss is now 0.2159028798341751\n",
      "The loss is now 0.23065224289894104\n",
      "The loss is now 0.22412028908729553\n",
      "The loss is now 0.21996574103832245\n",
      "The loss is now 0.21497833728790283\n",
      "The loss is now 0.21304087340831757\n"
     ]
    }
   ],
   "source": [
    "optimizer = torch.optim.Adam([weights1, weights2], lr=0.01)\n",
    "\n",
    "for i in range(1001):\n",
    "    optimizer.zero_grad()   # zero the gradient buffers\n",
    "    \n",
    "    labels, features = data.get_sample(1000)\n",
    "    \n",
    "    features = torch.autograd.Variable(torch.Tensor(features))\n",
    "    #print(\"Features: \"+str(features))\n",
    "    \n",
    "    target = torch.autograd.Variable(torch.LongTensor(labels))\n",
    "    #print(\"Target: \"+str(target))\n",
    "    \n",
    "    result = features.mm(weights1)\n",
    "    result1 = F.relu(result)\n",
    "    result2 = result1.mm(weights2)\n",
    "    \n",
    "    loss = F.cross_entropy(result2, target)\n",
    "    #print(\"Cross entropy loss: \"+str(loss))\n",
    "\n",
    "    loss.backward()\n",
    "    \n",
    "    optimizer.step()\n",
    "        \n",
    "    if i % 10 == 0:\n",
    "        print(\"The loss is now \"+str(loss.data.item()))\n",
    "\n",
    "torch.save(weights1, \"models/toy_problem_3_trained_deep_model_weights1.bin\")\n",
    "torch.save(weights2, \"models/toy_problem_3_trained_deep_model_weights2.bin\")"
   ]
  },
  {
   "cell_type": "markdown",
   "metadata": {
    "collapsed": true
   },
   "source": [
    "## The Loss\n",
    "\n",
    "The loss that is printed at the end of every 10 iterations is now seen to decrease.\n",
    "\n",
    "This tells us that the machine learning algorithm is now learning something.\n",
    "\n",
    "## Parameters\n",
    "\n",
    "We can now print the weights."
   ]
  },
  {
   "cell_type": "code",
   "execution_count": 4,
   "metadata": {},
   "outputs": [
    {
     "name": "stdout",
     "output_type": "stream",
     "text": [
      "The first layer weights are now tensor([[ 1.6524,  1.1334,  0.8918, -0.0659],\n",
      "        [-0.0610,  0.6734,  0.4895,  1.1477]])\n",
      "and the second layer's weights are now tensor([[ 0.5838,  1.2815],\n",
      "        [ 0.3170, -0.0750],\n",
      "        [ 0.9079,  0.1094],\n",
      "        [ 0.4954,  1.0460]])\n"
     ]
    }
   ],
   "source": [
    "print(\"The first layer weights are now \"+str(weights1.data))\n",
    "print(\"and the second layer's weights are now \"+str(weights2.data))"
   ]
  },
  {
   "cell_type": "markdown",
   "metadata": {},
   "source": [
    "## Classifier Test - Toy Problem 3\n",
    "\n",
    "We have just trained a multilayer classifier for Toy Problem 3.\n",
    "\n",
    "It seems to be learning something (the loss on the training data has decreased till about 0.2).\n",
    "\n",
    "Let us evaluate the performance of the classifier on the test data."
   ]
  },
  {
   "cell_type": "code",
   "execution_count": 5,
   "metadata": {},
   "outputs": [
    {
     "name": "stdout",
     "output_type": "stream",
     "text": [
      "tensor([[ 1.6524,  1.1334,  0.8918, -0.0659],\n",
      "        [-0.0610,  0.6734,  0.4895,  1.1477]])\n",
      "tensor([[ 0.5838,  1.2815],\n",
      "        [ 0.3170, -0.0750],\n",
      "        [ 0.9079,  0.1094],\n",
      "        [ 0.4954,  1.0460]])\n",
      "Accuracy: 0.987\n"
     ]
    }
   ],
   "source": [
    "data = Data(\"data/toy_problem_3_test.txt\")\n",
    "\n",
    "weights1 = torch.load(\"models/toy_problem_3_trained_deep_model_weights1.bin\")\n",
    "print(weights1)\n",
    "weights2 = torch.load(\"models/toy_problem_3_trained_deep_model_weights2.bin\")\n",
    "print(weights2)\n",
    "\n",
    "labels, features = data.get_all()\n",
    "\n",
    "features = torch.autograd.Variable(torch.Tensor(features))\n",
    "#print(features)\n",
    "\n",
    "target = torch.autograd.Variable(torch.LongTensor(labels))\n",
    "#print(target)\n",
    "\n",
    "result = torch.mm(features, weights1)\n",
    "result1 = F.relu(result)\n",
    "result2 = torch.mm(result1, weights2)\n",
    "#print(result2)\n",
    "\n",
    "maxv, observed = torch.max(result2, 1)\n",
    "\n",
    "total = 0\n",
    "correct = 0\n",
    "for i in range(len(labels)):\n",
    "    total += 1\n",
    "    #print(str(target.data[i]) + \" \" + str(observed.data[i]))\n",
    "    if target.data[i] == observed.data[i]:\n",
    "        correct += 1\n",
    "accuracy = correct / total\n",
    "print(\"Accuracy: \"+str(accuracy))"
   ]
  },
  {
   "cell_type": "markdown",
   "metadata": {
    "collapsed": true
   },
   "source": [
    "As you can see, the accuracy is in the high 90s.\n",
    "\n",
    "This is a good score.\n",
    "\n",
    "It tells us that the multi-layer neural network was able to learn the non-linear XOR function."
   ]
  },
  {
   "cell_type": "code",
   "execution_count": null,
   "metadata": {
    "collapsed": true
   },
   "outputs": [],
   "source": []
  }
 ],
 "metadata": {
  "kernelspec": {
   "display_name": "Python 3",
   "language": "python",
   "name": "python3"
  },
  "language_info": {
   "codemirror_mode": {
    "name": "ipython",
    "version": 3
   },
   "file_extension": ".py",
   "mimetype": "text/x-python",
   "name": "python",
   "nbconvert_exporter": "python",
   "pygments_lexer": "ipython3",
   "version": "3.6.5"
  }
 },
 "nbformat": 4,
 "nbformat_minor": 2
}
