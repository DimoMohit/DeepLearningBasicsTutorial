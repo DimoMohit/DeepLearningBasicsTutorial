{
 "cells": [
  {
   "cell_type": "markdown",
   "metadata": {},
   "source": [
    "# Generating Training Data for Toy Problem 3\n",
    "\n",
    "In Toy Problem 1, for all inputs $f = \\begin{bmatrix}f_{1} & f_{2}\\end{bmatrix}$ and output categories $0$ and $1$, if $f_{1} * f_{2} > 0$ then the output category selected is $0$ else it is $1$.\n",
    "\n",
    "We can easily generate some training data with these properties."
   ]
  },
  {
   "cell_type": "code",
   "execution_count": 1,
   "metadata": {
    "collapsed": true
   },
   "outputs": [],
   "source": [
    "import random\n",
    "\n",
    "file = open(\"data/toy_problem_3_train.txt\", \"w\")\n",
    "\n",
    "for i in range(1000):\n",
    "    y = random.randint(-100,100)\n",
    "    x = random.randint(-100,100)\n",
    "    if x == y:\n",
    "        y += 1\n",
    "    label = 0 if y * x > 0 else 1\n",
    "    file.write(str(label)+\"\\t\"+str(x)+\" \"+str(y)+\"\\n\")\n",
    "\n",
    "file.flush()\n",
    "file.close()"
   ]
  },
  {
   "cell_type": "markdown",
   "metadata": {},
   "source": [
    "We just created 1000 data points and wrote them to a TSV file.\n",
    "\n",
    "The first column (before the tab) contains the labels, and the second column contains the features.\n",
    "\n",
    "# Generating Test Data for Toy Problem 3\n",
    "\n",
    "This is just as easy."
   ]
  },
  {
   "cell_type": "code",
   "execution_count": 2,
   "metadata": {
    "collapsed": true
   },
   "outputs": [],
   "source": [
    "file = open(\"data/toy_problem_3_test.txt\", \"w\")\n",
    "\n",
    "for i in range(1000):\n",
    "    y = random.randint(-100,100)\n",
    "    x = random.randint(-100,100)\n",
    "    if x == y:\n",
    "        y += 1\n",
    "    label = 0 if y * x > 0 else 1\n",
    "    file.write(str(label)+\"\\t\"+str(x)+\" \"+str(y)+\"\\n\")\n",
    "\n",
    "file.flush()\n",
    "file.close()"
   ]
  },
  {
   "cell_type": "markdown",
   "metadata": {},
   "source": [
    "We've created training and test datasets for the third problem."
   ]
  },
  {
   "cell_type": "code",
   "execution_count": null,
   "metadata": {
    "collapsed": true
   },
   "outputs": [],
   "source": []
  }
 ],
 "metadata": {
  "kernelspec": {
   "display_name": "Python 3",
   "language": "python",
   "name": "python3"
  },
  "language_info": {
   "codemirror_mode": {
    "name": "ipython",
    "version": 3
   },
   "file_extension": ".py",
   "mimetype": "text/x-python",
   "name": "python",
   "nbconvert_exporter": "python",
   "pygments_lexer": "ipython3",
   "version": "3.5.2"
  }
 },
 "nbformat": 4,
 "nbformat_minor": 2
}
