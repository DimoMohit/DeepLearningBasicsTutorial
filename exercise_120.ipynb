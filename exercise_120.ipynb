{
 "cells": [
  {
   "cell_type": "markdown",
   "metadata": {},
   "source": [
    "# A Simple Neural Network\n",
    "\n",
    "It is easy to create a single-layer neural network using pytorch.\n",
    "\n",
    "The outputs of the neural network are merely linear combinations of the inputs.\n"
   ]
  },
  {
   "cell_type": "code",
   "execution_count": null,
   "metadata": {
    "collapsed": true
   },
   "outputs": [],
   "source": [
    "import torch\n",
    "\n",
    "inputs = torch.Tensor([[1, 2]])\n",
    "print(\"The inputs are:\")\n",
    "print(inputs)"
   ]
  },
  {
   "cell_type": "markdown",
   "metadata": {},
   "source": [
    "We've used horizontal matrices for the input and output vectors (matrices with 1 row).\n",
    "\n",
    "So, you have to multiply the inputs by the weights using $inputs * weights$ instead of $weights * inputs$."
   ]
  },
  {
   "cell_type": "code",
   "execution_count": null,
   "metadata": {
    "collapsed": true
   },
   "outputs": [],
   "source": [
    "weights = torch.Tensor([[3, 7],[4, 1]])\n",
    "print(\"The weights are:\")\n",
    "print(weights)\n",
    "\n",
    "bias = torch.Tensor([[0.5, 0.3]])\n",
    "print(\"The biases are:\")\n",
    "print(bias)"
   ]
  },
  {
   "cell_type": "markdown",
   "metadata": {},
   "source": [
    "The if the input is $f$ and the output is $c$, then $c = f*W + b$"
   ]
  },
  {
   "cell_type": "code",
   "execution_count": 3,
   "metadata": {},
   "outputs": [
    {
     "name": "stdout",
     "output_type": "stream",
     "text": [
      "The inputs are:\n",
      "\n",
      " 1  2\n",
      "[torch.FloatTensor of size 1x2]\n",
      "\n",
      "The weights are:\n",
      "\n",
      " 3  7\n",
      " 4  1\n",
      "[torch.FloatTensor of size 2x2]\n",
      "\n",
      "The biases are:\n",
      "\n",
      " 0.5000  0.3000\n",
      "[torch.FloatTensor of size 1x2]\n",
      "\n",
      "The outputs are:\n",
      "\n",
      " 11.5000   9.3000\n",
      "[torch.FloatTensor of size 1x2]\n",
      "\n"
     ]
    }
   ],
   "source": [
    "outputs = inputs.mm(weights) + bias\n",
    "print(\"The outputs are:\")\n",
    "print(outputs)"
   ]
  },
  {
   "cell_type": "code",
   "execution_count": null,
   "metadata": {
    "collapsed": true
   },
   "outputs": [],
   "source": []
  }
 ],
 "metadata": {
  "kernelspec": {
   "display_name": "Python 3",
   "language": "python",
   "name": "python3"
  },
  "language_info": {
   "codemirror_mode": {
    "name": "ipython",
    "version": 3
   },
   "file_extension": ".py",
   "mimetype": "text/x-python",
   "name": "python",
   "nbconvert_exporter": "python",
   "pygments_lexer": "ipython3",
   "version": "3.5.2"
  }
 },
 "nbformat": 4,
 "nbformat_minor": 2
}
