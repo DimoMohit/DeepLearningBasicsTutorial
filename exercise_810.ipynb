{
 "cells": [
  {
   "cell_type": "markdown",
   "metadata": {},
   "source": [
    "# Pulling Down MNIST Training Data\n",
    "\n",
    "This program pulls down MNIST data and stores it in the **data/mnist** folder under the current directory.\n",
    "\n",
    "Please make sure that you have a **data/mnist** directory present."
   ]
  },
  {
   "cell_type": "code",
   "execution_count": 2,
   "metadata": {},
   "outputs": [
    {
     "name": "stdout",
     "output_type": "stream",
     "text": [
      "Label = tensor(5)\n",
      "00 00 00 00 00 00 00 00 00 00 00 00 00 00 00 00 00 00 00 00 00 00 00 00 00 00 00 00 00 00 00 00\n",
      "00 00 00 00 00 00 00 00 00 00 00 00 00 00 00 00 00 00 00 00 00 00 00 00 00 00 00 00 00 00 00 00\n",
      "00 00 00 00 00 00 00 00 00 00 00 00 00 00 00 00 00 00 00 00 00 00 00 00 00 00 00 00 00 00 00 00\n",
      "00 00 00 00 00 00 00 00 00 00 00 00 00 00 00 00 00 00 00 00 00 00 00 00 00 00 00 00 00 00 00 00\n",
      "00 00 00 00 00 00 00 00 00 00 00 00 00 00 00 00 00 00 00 00 00 00 00 00 00 00 00 00 00 00 00 00\n",
      "00 00 00 00 00 00 00 00 00 00 00 00 00 02 04 06 07 07 05 02 00 00 00 00 00 00 00 00 00 00 00 00\n",
      "00 00 00 00 00 00 00 00 00 02 03 03 05 11 17 20 25 25 20 12 06 03 00 00 00 00 00 00 00 00 00 00\n",
      "00 00 00 00 00 00 00 00 01 12 17 18 21 25 25 25 25 25 25 25 22 13 01 00 00 00 00 00 00 00 00 00\n",
      "00 00 00 00 00 00 00 00 05 21 24 24 25 25 25 25 25 25 25 25 25 20 07 00 00 00 00 00 00 00 00 00\n",
      "00 00 00 00 00 00 00 00 06 22 25 25 25 25 25 24 20 22 20 17 17 17 08 00 00 00 00 00 00 00 00 00\n",
      "00 00 00 00 00 00 00 00 03 21 25 25 25 22 15 10 06 06 06 04 04 05 02 00 00 00 00 00 00 00 00 00\n",
      "00 00 00 00 00 00 00 00 01 17 24 25 25 21 09 02 00 00 00 00 00 00 00 00 00 00 00 00 00 00 00 00\n",
      "00 00 00 00 00 00 00 00 00 09 20 24 25 22 14 03 00 00 00 00 00 00 00 00 00 00 00 00 00 00 00 00\n",
      "00 00 00 00 00 00 00 00 00 02 12 20 24 25 22 13 08 02 00 00 00 00 00 00 00 00 00 00 00 00 00 00\n",
      "00 00 00 00 00 00 00 00 00 00 02 11 21 24 25 25 23 11 05 02 00 00 00 00 00 00 00 00 00 00 00 00\n",
      "00 00 00 00 00 00 00 00 00 00 00 02 09 20 25 25 25 25 19 09 03 00 00 00 00 00 00 00 00 00 00 00\n",
      "00 00 00 00 00 00 00 00 00 00 00 00 00 07 21 25 25 25 24 23 17 08 00 00 00 00 00 00 00 00 00 00\n",
      "00 00 00 00 00 00 00 00 00 00 00 00 00 01 05 13 22 25 25 25 23 15 03 00 00 00 00 00 00 00 00 00\n",
      "00 00 00 00 00 00 00 00 00 00 00 00 00 00 00 03 07 13 21 25 25 22 14 01 00 00 00 00 00 00 00 00\n",
      "00 00 00 00 00 00 00 00 00 00 00 00 00 00 00 00 00 03 11 20 25 25 20 04 00 00 00 00 00 00 00 00\n",
      "00 00 00 00 00 00 00 00 00 00 00 00 00 00 00 00 00 00 03 15 24 25 22 08 00 00 00 00 00 00 00 00\n",
      "00 00 00 00 00 00 00 00 00 00 00 00 00 00 00 00 00 00 02 15 24 25 23 12 00 00 00 00 00 00 00 00\n",
      "00 00 00 00 00 00 00 00 00 00 00 00 00 00 01 00 00 04 10 19 25 25 23 12 00 00 00 00 00 00 00 00\n",
      "00 00 00 00 00 00 00 00 00 00 00 00 01 05 08 02 03 18 24 25 25 25 22 11 00 00 00 00 00 00 00 00\n",
      "00 00 00 00 00 00 00 00 00 00 00 00 08 20 23 17 22 24 25 25 25 25 20 03 00 00 00 00 00 00 00 00\n",
      "00 00 00 00 00 00 00 00 00 00 00 00 11 24 25 24 25 25 25 25 25 20 09 00 00 00 00 00 00 00 00 00\n",
      "00 00 00 00 00 00 00 00 00 00 00 00 10 23 25 25 25 25 25 20 14 08 02 00 00 00 00 00 00 00 00 00\n",
      "00 00 00 00 00 00 00 00 00 00 00 00 05 14 22 25 25 21 16 09 04 01 00 00 00 00 00 00 00 00 00 00\n",
      "00 00 00 00 00 00 00 00 00 00 00 00 00 04 11 14 14 10 05 01 00 00 00 00 00 00 00 00 00 00 00 00\n",
      "00 00 00 00 00 00 00 00 00 00 00 00 00 00 00 00 00 00 00 00 00 00 00 00 00 00 00 00 00 00 00 00\n",
      "00 00 00 00 00 00 00 00 00 00 00 00 00 00 00 00 00 00 00 00 00 00 00 00 00 00 00 00 00 00 00 00\n",
      "00 00 00 00 00 00 00 00 00 00 00 00 00 00 00 00 00 00 00 00 00 00 00 00 00 00 00 00 00 00 00 00\n"
     ]
    }
   ],
   "source": [
    "# Code adapted from https://github.com/activatedgeek/LeNet-5/\n",
    "\n",
    "from collections import OrderedDict\n",
    "import torch\n",
    "import torch.nn as nn\n",
    "import torch.optim as optim\n",
    "from torch.autograd import Variable\n",
    "from torchvision.datasets.mnist import MNIST\n",
    "import torchvision.transforms as transforms\n",
    "from torch.utils.data import DataLoader\n",
    "import matplotlib\n",
    "import matplotlib.pyplot\n",
    "\n",
    "data_train = MNIST('data/mnist',\n",
    "                   download=True,\n",
    "                   transform=transforms.Compose([\n",
    "                       transforms.Resize((32, 32)),\n",
    "                       transforms.ToTensor()]))\n",
    "data_train_loader = DataLoader(data_train, batch_size=1, shuffle=True, num_workers=8)\n",
    "\n",
    "def main():\n",
    "    for i,(image, label) in enumerate(data_train_loader):\n",
    "        #matplotlib.pyplot.imshow(image.squeeze())\n",
    "        print(\"Label = \"+str(label[0]))\n",
    "        for j in range(0,image.size(2)):\n",
    "            row = []\n",
    "            for k in range(0,image.size(3)):\n",
    "                pixel = round(256*image[0,0,j,k].item(),0)\n",
    "                if pixel == 0:\n",
    "                    row.append('00')\n",
    "                elif pixel >= 0 and pixel/10 < 10:\n",
    "                    row.append('0'+str(int(pixel/10)))\n",
    "                elif pixel/10 >= 10:\n",
    "                    row.append(str(int(pixel/10)))\n",
    "            print(' '.join(row))\n",
    "        break\n",
    "\n",
    "\n",
    "if __name__ == '__main__':\n",
    "    main()"
   ]
  },
  {
   "cell_type": "markdown",
   "metadata": {
    "collapsed": true
   },
   "source": [
    "Once it downloads the dataset, this script prints out the first image."
   ]
  },
  {
   "cell_type": "code",
   "execution_count": null,
   "metadata": {
    "collapsed": true
   },
   "outputs": [],
   "source": []
  }
 ],
 "metadata": {
  "kernelspec": {
   "display_name": "Python 3",
   "language": "python",
   "name": "python3"
  },
  "language_info": {
   "codemirror_mode": {
    "name": "ipython",
    "version": 3
   },
   "file_extension": ".py",
   "mimetype": "text/x-python",
   "name": "python",
   "nbconvert_exporter": "python",
   "pygments_lexer": "ipython3",
   "version": "3.6.5"
  }
 },
 "nbformat": 4,
 "nbformat_minor": 2
}
